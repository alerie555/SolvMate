{
 "cells": [
  {
   "cell_type": "code",
   "execution_count": 0,
   "metadata": {
    "application/vnd.databricks.v1+cell": {
     "cellMetadata": {},
     "inputWidgets": {},
     "nuid": "9b0d1721-d667-4c74-b10e-9696d88e6c2d",
     "showTitle": false,
     "tableResultSettingsMap": {},
     "title": ""
    }
   },
   "outputs": [],
   "source": [
    "%python\n",
    "from datetime import datetime\n",
    "from pyspark.sql.types import StructType, StructField, StringType, TimestampType, LongType\n",
    "from pyspark.sql.functions import lit, col, when\n",
    "\n",
    "# Update the final status of the run\n",
    "def finalize_run(status_table, job_run_id):\n",
    "    final_status = \"Done\"\n",
    "    end_time = datetime.now() \n",
    "    status_table = status_table.withColumn(\"end_time\", \n",
    "                                           when(col(\"run_id\") == job_run_id, lit(end_time)).otherwise(col(\"end_time\")))\n",
    "    status_table = status_table.withColumn(\"status\", \n",
    "                                           when(col(\"run_id\") == job_run_id, lit(final_status)).otherwise(col(\"status\")))\n",
    "    status_table = status_table.withColumn(\"run_duration\", \n",
    "                                           when(col(\"run_id\") == job_run_id, \n",
    "                                                (col(\"end_time\").cast(\"long\") - col(\"start_time\").cast(\"long\"))).otherwise(col(\"run_duration\")))\n",
    "    return status_table\n",
    "\n",
    "status_table = spark.table(\"default.status\")\n",
    "job_run_id = dbutils.widgets.get(\"run_id\")\n",
    "\n",
    "# Finalize the run\n",
    "status_table = finalize_run(status_table, job_run_id)\n",
    "\n",
    "#display(status_table)\n",
    "\n",
    "# Step 5: Store the updated DataFrame as a new table\n",
    "status_table.write.mode(\"overwrite\").saveAsTable(\"default.status\")"
   ]
  }
 ],
 "metadata": {
  "application/vnd.databricks.v1+notebook": {
   "computePreferences": null,
   "dashboards": [],
   "environmentMetadata": {
    "base_environment": "",
    "environment_version": "2"
   },
   "inputWidgetPreferences": null,
   "language": "python",
   "notebookMetadata": {
    "pythonIndentUnit": 4
   },
   "notebookName": "5_Final_Status",
   "widgets": {}
  },
  "language_info": {
   "name": "python"
  }
 },
 "nbformat": 4,
 "nbformat_minor": 0
}
