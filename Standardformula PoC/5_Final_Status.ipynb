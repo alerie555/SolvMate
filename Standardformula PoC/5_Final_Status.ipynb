{
 "cells": [
  {
   "cell_type": "code",
   "execution_count": 0,
   "metadata": {
    "application/vnd.databricks.v1+cell": {
     "cellMetadata": {},
     "inputWidgets": {},
     "nuid": "9b0d1721-d667-4c74-b10e-9696d88e6c2d",
     "showTitle": false,
     "tableResultSettingsMap": {},
     "title": ""
    }
   },
   "outputs": [],
   "source": [
    "from datetime import datetime\n",
    "from pyspark.sql.types import StructType, StructField, StringType, TimestampType, LongType\n",
    "from pyspark.sql.functions import lit, col\n",
    "\n",
    "\n",
    "# Update the final status of the run\n",
    "def finalize_run(status_table, job_run_id):\n",
    "    final_status = dbutils.widgets.get(\"run_state\")\n",
    "    end_time = dbutils.widgets.get(\"end_time\")\n",
    "    run_duration = dbutils.widgets.get(\"run_duration \")\n",
    "    status_table = status_table.withColumn(\"End time\", \n",
    "                                           when(col(\"Job Run ID\") == job_run_id, lit(end_time)).otherwise(col(\"End time\")))\n",
    "    status_table = status_table.withColumn(\"Status\", \n",
    "                                           when(col(\"Job Run ID\") == job_run_id, lit(final_status)).otherwise(col(\"Status\")))\n",
    "    status_table = status_table.withColumn(\"Duration\", \n",
    "                                           when(col(\"Job Run ID\") == job_run_id, \n",
    "                                                (col(\"End time\").cast(\"long\") - col(\"Start time\").cast(\"long\"))).otherwise(col(\"Duration\")))\n",
    "    return status_table\n",
    "\n",
    "\n",
    "status_table = spark.table(\"default.status\")\n",
    "job_run_id = dbutils.widgets.get(\"run_id\")\n",
    "\n",
    "# Finalize the run\n",
    "status_table = finalize_run(status_table, job_run_id)\n",
    "\n",
    "\n",
    "#display(status_table)\n",
    "\n",
    "# Step 5: Store the updated DataFrame as a new table\n",
    "status_table.write.mode(\"overwrite\").saveAsTable(\"default.status\")"
   ]
  }
 ],
 "metadata": {
  "application/vnd.databricks.v1+notebook": {
   "computePreferences": null,
   "dashboards": [],
   "environmentMetadata": {
    "base_environment": "",
    "environment_version": "2"
   },
   "inputWidgetPreferences": null,
   "language": "python",
   "notebookMetadata": {
    "pythonIndentUnit": 4
   },
   "notebookName": "5_Final_Status",
   "widgets": {}
  },
  "language_info": {
   "name": "python"
  }
 },
 "nbformat": 4,
 "nbformat_minor": 0
}
