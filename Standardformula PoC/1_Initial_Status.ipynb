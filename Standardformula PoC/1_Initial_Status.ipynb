{
 "cells": [
  {
   "cell_type": "code",
   "execution_count": 0,
   "metadata": {
    "application/vnd.databricks.v1+cell": {
     "cellMetadata": {
      "byteLimit": 2048000,
      "rowLimit": 10000
     },
     "inputWidgets": {},
     "nuid": "f36af3ae-50ee-466f-960e-2ee3fb05cd02",
     "showTitle": false,
     "tableResultSettingsMap": {},
     "title": ""
    }
   },
   "outputs": [],
   "source": [
    "from datetime import datetime\n",
    "from pyspark.sql.types import StructType, StructField, StringType, TimestampType, LongType\n",
    "from pyspark.sql.functions import lit, col\n",
    "\n",
    "# Initialize a new run\n",
    "def initialize_run(status_table, job_run_id, run_description, entity, type_of_run, status, start_time):\n",
    "    schema = StructType([\n",
    "        StructField(\"Job Run ID\", StringType(), True),\n",
    "        StructField(\"Run description\", StringType(), True),\n",
    "        StructField(\"Entity\", StringType(), True),\n",
    "        StructField(\"Type of Run\", StringType(), True),\n",
    "        StructField(\"Status\", StringType(), True),\n",
    "        StructField(\"Start time\", TimestampType(), True),\n",
    "        StructField(\"End time\", TimestampType(), True),\n",
    "        StructField(\"Duration\", LongType(), True)\n",
    "    ])\n",
    "    \n",
    "    new_run = spark.createDataFrame([(job_run_id, run_description, entity, type_of_run, status, start_time, None, None)], schema)\n",
    "    status_table = status_table.union(new_run)\n",
    "    return status_table\n",
    "\n",
    "status_table = spark.table(\"default.status\")\n",
    "\n",
    "# Set parameters\n",
    "\n",
    "# for test\n",
    "#job_run_id = \"001\" \n",
    "#type_of_run = \"SCR, MCR\"\n",
    "#status = \"Started\"\n",
    "#entity = \"16001\" \n",
    "#start_time = datetime.now() \n",
    "\n",
    "job_run_id = dbutils.widgets.get(\"run_id\")\n",
    "entity = dbutils.widgets.get(\"entity_id\")\n",
    "status = dbutils.widgets.get(\"run_status\")\n",
    "start_time = dbutils.widgets.get(\"start_time\")\n",
    "type_of_run = \"\"\n",
    "run_description = \"\"\n",
    "\n",
    "\n",
    "# Initialize a new run\n",
    "status_table = initialize_run(status_table, job_run_id, run_description, entity, type_of_run, status, start_time)\n",
    "\n",
    "#display(status_table)\n",
    "\n",
    "# Step 5: Store the updated DataFrame as a new table\n",
    "status_table.write.mode(\"overwrite\").saveAsTable(\"default.status\")"
   ]
  }
 ],
 "metadata": {
  "application/vnd.databricks.v1+notebook": {
   "computePreferences": null,
   "dashboards": [],
   "environmentMetadata": {
    "base_environment": "",
    "environment_version": "2"
   },
   "inputWidgetPreferences": null,
   "language": "python",
   "notebookMetadata": {
    "mostRecentlyExecutedCommandWithImplicitDF": {
     "commandId": 549829850946042,
     "dataframes": [
      "_sqldf"
     ]
    },
    "pythonIndentUnit": 4
   },
   "notebookName": "1_Initial_Status",
   "widgets": {}
  },
  "language_info": {
   "name": "python"
  }
 },
 "nbformat": 4,
 "nbformat_minor": 0
}
